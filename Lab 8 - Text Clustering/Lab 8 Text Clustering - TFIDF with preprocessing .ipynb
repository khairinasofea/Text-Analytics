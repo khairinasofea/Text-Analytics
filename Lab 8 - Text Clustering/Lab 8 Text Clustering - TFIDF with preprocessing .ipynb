{
 "cells": [
  {
   "cell_type": "markdown",
   "id": "97386412",
   "metadata": {},
   "source": [
    "# TEXT CLUSTERING USING TF-IDF VECTORIZER"
   ]
  },
  {
   "cell_type": "markdown",
   "id": "f0fc2a79",
   "metadata": {},
   "source": [
    "###### Step 1: Import the libraries\n"
   ]
  },
  {
   "cell_type": "code",
   "execution_count": 12,
   "id": "6466b604",
   "metadata": {},
   "outputs": [],
   "source": [
    "import numpy as np\n",
    "from sklearn.cluster import KMeans\n",
    "from sklearn.feature_extraction.text import TfidfVectorizer\n",
    "from tabulate import tabulate\n",
    "from collections import Counter\n",
    "\n",
    "#addition for preprocessing\n",
    "import nltk\n",
    "from nltk.corpus import stopwords\n",
    "from nltk.stem import WordNetLemmatizer\n",
    "import re"
   ]
  },
  {
   "cell_type": "markdown",
   "id": "b87117ac",
   "metadata": {},
   "source": [
    "###### Step 2: Create the documents"
   ]
  },
  {
   "cell_type": "code",
   "execution_count": 13,
   "id": "f87e055a",
   "metadata": {},
   "outputs": [],
   "source": [
    "dataset = [\"I love playing football on the weekends\",\n",
    " \"I enjoy hiking and camping in the mountains\",\n",
    " \"I like to read books and watch movies\",\n",
    " \"I prefer playing video games over sports\",\n",
    " \"I love listening to music and going to concerts\"]"
   ]
  },
  {
   "cell_type": "markdown",
   "id": "3a5f831f",
   "metadata": {},
   "source": [
    "###### Step 3: Preprocessing"
   ]
  },
  {
   "cell_type": "code",
   "execution_count": 14,
   "id": "62d43112",
   "metadata": {},
   "outputs": [
    {
     "name": "stderr",
     "output_type": "stream",
     "text": [
      "[nltk_data] Downloading package stopwords to\n",
      "[nltk_data]     C:\\Users\\User\\AppData\\Roaming\\nltk_data...\n",
      "[nltk_data]   Package stopwords is already up-to-date!\n",
      "[nltk_data] Downloading package wordnet to\n",
      "[nltk_data]     C:\\Users\\User\\AppData\\Roaming\\nltk_data...\n",
      "[nltk_data]   Package wordnet is already up-to-date!\n"
     ]
    }
   ],
   "source": [
    "nltk.download('stopwords')\n",
    "nltk.download('wordnet')\n",
    "stop_words = set(stopwords.words('english'))\n",
    "lemmatizer = WordNetLemmatizer()\n",
    "\n",
    "def preprocess(text):\n",
    "    # Remove non-alphabetic characters and lowercase\n",
    "    text = re.sub(r'[^a-zA-Z]', ' ', text.lower())\n",
    "    # Tokenize\n",
    "    tokens = text.split()\n",
    "    # Remove stopwords and lemmatize\n",
    "    tokens = [lemmatizer.lemmatize(word) for word in tokens if word not in stop_words]\n",
    "    # Join tokens back into a string\n",
    "    return ' '.join(tokens)\n",
    "\n",
    "preprocessed_dataset = [preprocess(doc) for doc in dataset]"
   ]
  },
  {
   "cell_type": "code",
   "execution_count": 15,
   "id": "922b85c6",
   "metadata": {},
   "outputs": [
    {
     "data": {
      "text/plain": [
       "['love playing football weekend',\n",
       " 'enjoy hiking camping mountain',\n",
       " 'like read book watch movie',\n",
       " 'prefer playing video game sport',\n",
       " 'love listening music going concert']"
      ]
     },
     "execution_count": 15,
     "metadata": {},
     "output_type": "execute_result"
    }
   ],
   "source": [
    "preprocessed_dataset"
   ]
  },
  {
   "cell_type": "markdown",
   "id": "bdeff86b",
   "metadata": {},
   "source": [
    "###### Step 4: Vectorize the dataset"
   ]
  },
  {
   "cell_type": "code",
   "execution_count": 16,
   "id": "0ccdcaad",
   "metadata": {},
   "outputs": [],
   "source": [
    "vectorizer = TfidfVectorizer()\n",
    "X = vectorizer.fit_transform(preprocessed_dataset)"
   ]
  },
  {
   "cell_type": "markdown",
   "id": "ea8f2222",
   "metadata": {},
   "source": [
    "###### Step 5: Perform clustering\n"
   ]
  },
  {
   "cell_type": "code",
   "execution_count": 17,
   "id": "b31e00ef",
   "metadata": {},
   "outputs": [
    {
     "name": "stderr",
     "output_type": "stream",
     "text": [
      "C:\\Users\\User\\anaconda3\\Lib\\site-packages\\sklearn\\cluster\\_kmeans.py:1412: FutureWarning: The default value of `n_init` will change from 10 to 'auto' in 1.4. Set the value of `n_init` explicitly to suppress the warning\n",
      "  super()._check_params_vs_input(X, default_n_init=10)\n"
     ]
    },
    {
     "name": "stdout",
     "output_type": "stream",
     "text": [
      "Document                                           Predicted Cluster\n",
      "-----------------------------------------------  -------------------\n",
      "I love playing football on the weekends                            0\n",
      "I enjoy hiking and camping in the mountains                        0\n",
      "I like to read books and watch movies                              1\n",
      "I prefer playing video games over sports                           0\n",
      "I love listening to music and going to concerts                    0\n"
     ]
    }
   ],
   "source": [
    "# Define the number of clusters\n",
    "k = 2 \n",
    "\n",
    "# Create a k-means model and fit it to the data\n",
    "km = KMeans(n_clusters=k)\n",
    "km.fit(X)\n",
    "\n",
    "# Predict the clusters for each document\n",
    "y_pred = km.predict(X)\n",
    "\n",
    "# Display the document and its predicted cluster in a table\n",
    "table_data = [[\"Document\", \"Predicted Cluster\"]]\n",
    "table_data.extend([[doc, cluster] for doc, cluster in zip(dataset, y_pred)])\n",
    "print(tabulate(table_data, headers=\"firstrow\"))\n"
   ]
  },
  {
   "cell_type": "code",
   "execution_count": 18,
   "id": "55d11af9",
   "metadata": {},
   "outputs": [
    {
     "name": "stdout",
     "output_type": "stream",
     "text": [
      "\n",
      "Top terms per cluster:\n",
      "Cluster 0:\n",
      " love\n",
      " playing\n",
      " football\n",
      " weekend\n",
      " enjoy\n",
      " camping\n",
      " mountain\n",
      " hiking\n",
      " sport\n",
      " music\n",
      "\n",
      "Cluster 1:\n",
      " book\n",
      " like\n",
      " read\n",
      " movie\n",
      " watch\n",
      " camping\n",
      " concert\n",
      " enjoy\n",
      " football\n",
      " game\n",
      "\n"
     ]
    }
   ],
   "source": [
    "# Print top terms per cluster\n",
    "print(\"\\nTop terms per cluster:\")\n",
    "order_centroids = km.cluster_centers_.argsort()[:, ::-1]\n",
    "terms = vectorizer.get_feature_names_out()\n",
    "for i in range(k):\n",
    "    print(\"Cluster %d:\" % i)\n",
    "    for ind in order_centroids[i, :10]:\n",
    "        print(' %s' % terms[ind])\n",
    "    print()"
   ]
  },
  {
   "cell_type": "markdown",
   "id": "1f743940",
   "metadata": {},
   "source": [
    "###### Step 5: Evaluate results"
   ]
  },
  {
   "cell_type": "code",
   "execution_count": 19,
   "id": "bff81f67",
   "metadata": {},
   "outputs": [
    {
     "name": "stdout",
     "output_type": "stream",
     "text": [
      "Purity: 0.8\n"
     ]
    }
   ],
   "source": [
    "# Calculate purity\n",
    "total_samples = len(y_pred)\n",
    "cluster_label_counts = [Counter(y_pred)]\n",
    "purity = sum(max(cluster.values()) for cluster in cluster_label_counts) / total_samples\n",
    "print(\"Purity:\", purity)"
   ]
  }
 ],
 "metadata": {
  "kernelspec": {
   "display_name": "Python 3 (ipykernel)",
   "language": "python",
   "name": "python3"
  },
  "language_info": {
   "codemirror_mode": {
    "name": "ipython",
    "version": 3
   },
   "file_extension": ".py",
   "mimetype": "text/x-python",
   "name": "python",
   "nbconvert_exporter": "python",
   "pygments_lexer": "ipython3",
   "version": "3.11.5"
  }
 },
 "nbformat": 4,
 "nbformat_minor": 5
}
