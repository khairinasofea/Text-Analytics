{
 "cells": [
  {
   "cell_type": "code",
   "execution_count": 10,
   "id": "d572ebec",
   "metadata": {},
   "outputs": [
    {
     "name": "stdout",
     "output_type": "stream",
     "text": [
      "Scraping and saving complete!\n"
     ]
    }
   ],
   "source": [
    "import re\n",
    "import json\n",
    "import requests\n",
    "import csv\n",
    "from datetime import datetime\n",
    "\n",
    "# Function to extract shop ID and item ID from the URL\n",
    "def extract_shop_item_ids(url):\n",
    "    match = re.search(r'i\\.(\\d+)\\.(\\d+)', url)\n",
    "    if match:\n",
    "        return match.group(1), match.group(2)\n",
    "    else:\n",
    "        print(\"Invalid URL\")\n",
    "        exit()\n",
    "\n",
    "# URL to scrape\n",
    "url = 'https://shopee.com.my/Sony-Bone-Conduction-Bluetooth-Earphone-Earring-Wireless-Ear-Clip-Earbuds-Sound-Earcuffs-Sport-Headset-With-Mic-i.48959264.20773737808?sp_atk=b253076a-d05e-47a0-8175-34a80703b02b&xptdk=b253076a-d05e-47a0-8175-34a80703b02b'\n",
    "\n",
    "# Extract shop ID and item ID from the URL\n",
    "shop_id, item_id = extract_shop_item_ids(url)\n",
    "\n",
    "# Set initial offset and initialize list to store reviews\n",
    "offset = 0\n",
    "reviews_data = []\n",
    "\n",
    "# Choose how many pages need to be scrape (here scrape only 3 pages of reviews)\n",
    "for page in range(3):\n",
    "    # Construct URL for fetching reviews\n",
    "    ratings_url = f'https://shopee.com.my/api/v2/item/get_ratings?filter=0&flag=1&itemid={item_id}&limit=6&offset={offset}&shopid={shop_id}&type=0'\n",
    "\n",
    "    # Fetch reviews data from the API\n",
    "    data = requests.get(ratings_url).json()\n",
    "\n",
    "    # Extract reviews from the data and add to reviews_data list\n",
    "    for rating in data['data']['ratings']:\n",
    "        reviewer_name = rating['author_username']\n",
    "        \n",
    "        # Extract date only\n",
    "        timestamp = rating['ctime']\n",
    "        review_date = datetime.utcfromtimestamp(timestamp).strftime('%Y-%m-%d')\n",
    "        \n",
    "        # Combine all lines of comment into one string\n",
    "        comment_lines = [line.strip() for line in rating['comment'].split('\\n')]\n",
    "        review_comment = ' '.join(comment_lines)\n",
    "        \n",
    "        reviews_data.append([reviewer_name, review_date, review_comment])\n",
    "\n",
    "    # Check if there are more reviews to fetch\n",
    "    # 6 is number of review per page\n",
    "    if len(data['data']['ratings']) < 6:\n",
    "        break\n",
    "\n",
    "    # Increment offset for next page of reviews\n",
    "    offset += 6\n",
    "\n",
    "# Save reviews to a CSV file\n",
    "\n",
    "#name the CSV file\n",
    "csv_file = 'shopee_reviews.csv'\n",
    "with open(csv_file, 'w', newline='', encoding='utf-8') as csvfile:\n",
    "    writer = csv.writer(csvfile)\n",
    "    writer.writerow(['Reviewer Name', 'Review Date', 'Review Comment'])\n",
    "    writer.writerows(reviews_data)\n",
    "\n",
    "print(\"Scraping and saving complete!\")\n"
   ]
  },
  {
   "cell_type": "code",
   "execution_count": null,
   "id": "3aab55a0",
   "metadata": {},
   "outputs": [],
   "source": []
  }
 ],
 "metadata": {
  "kernelspec": {
   "display_name": "Python 3 (ipykernel)",
   "language": "python",
   "name": "python3"
  },
  "language_info": {
   "codemirror_mode": {
    "name": "ipython",
    "version": 3
   },
   "file_extension": ".py",
   "mimetype": "text/x-python",
   "name": "python",
   "nbconvert_exporter": "python",
   "pygments_lexer": "ipython3",
   "version": "3.11.5"
  }
 },
 "nbformat": 4,
 "nbformat_minor": 5
}
